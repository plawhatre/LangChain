{
 "cells": [
  {
   "cell_type": "code",
   "execution_count": 2,
   "id": "a5beac8f",
   "metadata": {},
   "outputs": [],
   "source": [
    "import os\n",
    "from langchain_google_genai import ChatGoogleGenerativeAI\n",
    "from langchain_core.messages import HumanMessage, AIMessage"
   ]
  },
  {
   "cell_type": "code",
   "execution_count": 8,
   "id": "2b673972",
   "metadata": {},
   "outputs": [],
   "source": [
    "# Step 1: Load API keys\n",
    "if 'GOOGLE_API_KEY' not in os.environ:\n",
    "    os.environ['GOOGLE_API_KEY'] = input(\"Enter API key\\n\")"
   ]
  },
  {
   "cell_type": "code",
   "execution_count": 15,
   "id": "f99ab503",
   "metadata": {},
   "outputs": [],
   "source": [
    "# Step 2: Load model\n",
    "model = ChatGoogleGenerativeAI(\n",
    "    model='gemini-1.5-flash',\n",
    "    temperature=0.2\n",
    ")"
   ]
  },
  {
   "cell_type": "markdown",
   "id": "17f2e5a6",
   "metadata": {},
   "source": [
    "### Why persistance?"
   ]
  },
  {
   "cell_type": "code",
   "execution_count": null,
   "id": "a6aab318",
   "metadata": {},
   "outputs": [
    {
     "name": "stdout",
     "output_type": "stream",
     "text": [
      "Hi Prashant, it's nice to meet you!\n",
      "I do not know your name.  I have no access to personal information about you unless you explicitly provide it to me.\n"
     ]
    }
   ],
   "source": [
    "# Step 3.a: Invoke Model:- Model doesn't have concept of state\n",
    "print(model.invoke([HumanMessage(\"Hi, my name ids Prashant.\")]).content)\n",
    "print(model.invoke([HumanMessage(\"What is my name?\")]).content)"
   ]
  },
  {
   "cell_type": "code",
   "execution_count": null,
   "id": "acf119ae",
   "metadata": {},
   "outputs": [
    {
     "name": "stdout",
     "output_type": "stream",
     "text": [
      "Your name is Prashant.\n"
     ]
    }
   ],
   "source": [
    "# Step 3.b: We can invoke the model with conversation history\n",
    "conversation_hist = [HumanMessage(\"Hi, my name is Prashant\")]\n",
    "conversation_hist.append(model.invoke(conversation_hist))\n",
    "conversation_hist.append(HumanMessage(\"What is my name?\"))\n",
    "print(model.invoke(conversation_hist).content)"
   ]
  },
  {
   "cell_type": "markdown",
   "id": "b555e68b",
   "metadata": {},
   "source": [
    "### Message Persistance"
   ]
  },
  {
   "cell_type": "code",
   "execution_count": 12,
   "id": "4ce357b8",
   "metadata": {},
   "outputs": [],
   "source": [
    "from langgraph.checkpoint.memory import MemorySaver\n",
    "from langgraph.graph import START, MessagesState, StateGraph\n",
    "\n",
    "# Step 1: define a graph\n",
    "workflow = StateGraph(state_schema=MessagesState)\n",
    "\n",
    "# Step 2: define a call function\n",
    "def call_model(state: MessagesState):\n",
    "    response = model.invoke(state[\"messages\"])\n",
    "    return {\"messages\": response} \n",
    "\n",
    "# Step 3: Add nodes and edges\n",
    "workflow.add_edge(START, \"model\")\n",
    "workflow.add_node(\"model\", call_model)\n",
    "\n",
    "# Step 4: Add memory in graph\n",
    "memory = MemorySaver()\n",
    "app = workflow.compile(checkpointer=memory)\n",
    "\n",
    "# Step 5: Model\n",
    "model = ChatGoogleGenerativeAI(\n",
    "    model='gemini-1.5-flash'\n",
    ")"
   ]
  },
  {
   "cell_type": "code",
   "execution_count": 13,
   "id": "bb28db2a",
   "metadata": {},
   "outputs": [
    {
     "data": {
      "text/plain": [
       "\"Hi Prashant, it's nice to meet you!  How can I help you today?\""
      ]
     },
     "execution_count": 13,
     "metadata": {},
     "output_type": "execute_result"
    }
   ],
   "source": [
    "config = {\"configurable\": {\"thread_id\": 'abc234'}}\n",
    "query = [HumanMessage(\"Hi, my name is Prashant\")]\n",
    "output = app.invoke({'messages': query}, config=config)\n",
    "output['messages'][-1].content"
   ]
  },
  {
   "cell_type": "code",
   "execution_count": 14,
   "id": "ef8a4cd8",
   "metadata": {},
   "outputs": [
    {
     "data": {
      "text/plain": [
       "'I do not know your name.  I have no access to personal information about you unless you explicitly provide it to me.'"
      ]
     },
     "execution_count": 14,
     "metadata": {},
     "output_type": "execute_result"
    }
   ],
   "source": [
    "config = {\"configurable\": {\"thread_id\": '123abc234'}}\n",
    "query = [HumanMessage(\"What is my name?\")]\n",
    "output = app.invoke({'messages': query}, config=config)\n",
    "output['messages'][-1].content"
   ]
  },
  {
   "cell_type": "code",
   "execution_count": 15,
   "id": "b5608b39",
   "metadata": {},
   "outputs": [
    {
     "data": {
      "text/plain": [
       "'Your name is Prashant.'"
      ]
     },
     "execution_count": 15,
     "metadata": {},
     "output_type": "execute_result"
    }
   ],
   "source": [
    "config = {\"configurable\": {\"thread_id\": 'abc234'}}\n",
    "query = [HumanMessage(\"What is my name?\")]\n",
    "output = app.invoke({'messages': query}, config=config)\n",
    "output['messages'][-1].content"
   ]
  },
  {
   "cell_type": "code",
   "execution_count": null,
   "id": "d8e6b94f",
   "metadata": {},
   "outputs": [],
   "source": []
  }
 ],
 "metadata": {
  "kernelspec": {
   "display_name": ".venv",
   "language": "python",
   "name": "python3"
  },
  "language_info": {
   "codemirror_mode": {
    "name": "ipython",
    "version": 3
   },
   "file_extension": ".py",
   "mimetype": "text/x-python",
   "name": "python",
   "nbconvert_exporter": "python",
   "pygments_lexer": "ipython3",
   "version": "3.12.10"
  }
 },
 "nbformat": 4,
 "nbformat_minor": 5
}
